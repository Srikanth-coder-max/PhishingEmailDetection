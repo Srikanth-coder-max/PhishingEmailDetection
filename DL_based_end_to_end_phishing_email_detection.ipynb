{
  "nbformat": 4,
  "nbformat_minor": 0,
  "metadata": {
    "colab": {
      "provenance": []
    },
    "kernelspec": {
      "name": "python3",
      "display_name": "Python 3"
    },
    "language_info": {
      "name": "python"
    }
  },
  "cells": [
    {
      "cell_type": "code",
      "execution_count": null,
      "metadata": {
        "id": "Meh0GFVI8l3m"
      },
      "outputs": [],
      "source": [
        "import numpy as np\n",
        "import pandas as pd\n",
        "import matplotlib.pyplot as plt\n",
        "import seaborn as sns\n",
        "from sklearn.model_selection import train_test_split\n",
        "from tensorflow.keras.preprocessing.text import Tokenizer\n",
        "from tensorflow.keras.preprocessing.sequence import pad_sequences\n",
        "from tensorflow.keras.models import Sequential\n",
        "from tensorflow.keras.layers import Embedding, Conv1D, GlobalMaxPooling1D, Dense, Dropout\n",
        "from tensorflow.keras.optimizers import Adam\n",
        "from sklearn.metrics import classification_report, confusion_matrix\n",
        "import re"
      ]
    },
    {
      "cell_type": "code",
      "source": [
        "from google.colab import drive\n",
        "drive.mount('/content/drive')"
      ],
      "metadata": {
        "colab": {
          "base_uri": "https://localhost:8080/"
        },
        "id": "as-vtoMg87Em",
        "outputId": "9c6df9e1-ad60-494e-a018-e20998bccf10"
      },
      "execution_count": null,
      "outputs": [
        {
          "output_type": "stream",
          "name": "stdout",
          "text": [
            "Mounted at /content/drive\n"
          ]
        }
      ]
    },
    {
      "cell_type": "code",
      "source": [
        "df = pd.read_csv(\"/content/drive/MyDrive/NLP_Project/Phishing_Email.csv\")\n",
        "df.drop(\"Unnamed: 0\", axis=1, inplace=True)\n",
        "df.dropna(inplace=True)"
      ],
      "metadata": {
        "id": "0N0rE4y-8tRp"
      },
      "execution_count": null,
      "outputs": []
    },
    {
      "cell_type": "code",
      "source": [
        "df['Email Type'] = df['Email Type'].map({'Safe Email': 0, 'Phishing Email': 1})\n"
      ],
      "metadata": {
        "id": "gIzLzMKR8uYY"
      },
      "execution_count": null,
      "outputs": []
    },
    {
      "cell_type": "code",
      "source": [
        "def clean_text(text):\n",
        "    text = re.sub(\"[^a-zA-Z]\", \" \", text)\n",
        "    text = text.lower()\n",
        "    return text"
      ],
      "metadata": {
        "id": "zTjAtiEU9OPj"
      },
      "execution_count": null,
      "outputs": []
    },
    {
      "cell_type": "code",
      "source": [
        "df['cleaned_text'] = df['Email Text'].apply(lambda x: clean_text(x))"
      ],
      "metadata": {
        "id": "HhlY64SE9fxp"
      },
      "execution_count": null,
      "outputs": []
    },
    {
      "cell_type": "code",
      "source": [
        "X = df['cleaned_text'].values\n",
        "Y = df['Email Type'].values"
      ],
      "metadata": {
        "id": "o7X3F5pr9hbY"
      },
      "execution_count": null,
      "outputs": []
    },
    {
      "cell_type": "code",
      "source": [
        "vocab_size = 5000\n",
        "max_length = 100"
      ],
      "metadata": {
        "id": "qtlAaSql9jRQ"
      },
      "execution_count": null,
      "outputs": []
    },
    {
      "cell_type": "code",
      "source": [
        "tokenizer = Tokenizer(num_words=vocab_size, oov_token=\"<OOV>\")\n",
        "tokenizer.fit_on_texts(X)\n",
        "X_seq = tokenizer.texts_to_sequences(X)\n",
        "X_pad = pad_sequences(X_seq, maxlen=max_length, padding='post', truncating='post')"
      ],
      "metadata": {
        "id": "1shiM0Ij9mog"
      },
      "execution_count": null,
      "outputs": []
    },
    {
      "cell_type": "code",
      "source": [
        "X_train, X_test, Y_train, Y_test = train_test_split(X_pad, Y, test_size=0.2, random_state=42)"
      ],
      "metadata": {
        "id": "G8UbpV1c9opZ"
      },
      "execution_count": null,
      "outputs": []
    },
    {
      "cell_type": "code",
      "source": [
        "embedding_dim = 50"
      ],
      "metadata": {
        "id": "NbJ8No8s9q9Y"
      },
      "execution_count": null,
      "outputs": []
    },
    {
      "cell_type": "code",
      "source": [
        "model = Sequential([\n",
        "    Embedding(input_dim=vocab_size, output_dim=embedding_dim, input_length=max_length),\n",
        "    Conv1D(filters=128, kernel_size=5, activation='relu'),\n",
        "    GlobalMaxPooling1D(),\n",
        "    Dense(64, activation='relu'),\n",
        "    Dropout(0.5),\n",
        "    Dense(1, activation='sigmoid')\n",
        "])"
      ],
      "metadata": {
        "colab": {
          "base_uri": "https://localhost:8080/"
        },
        "id": "pb2iq43F9uiq",
        "outputId": "8d789777-2f66-4c3b-8af3-63328de34e4e"
      },
      "execution_count": null,
      "outputs": [
        {
          "output_type": "stream",
          "name": "stderr",
          "text": [
            "/usr/local/lib/python3.10/dist-packages/keras/src/layers/core/embedding.py:90: UserWarning: Argument `input_length` is deprecated. Just remove it.\n",
            "  warnings.warn(\n"
          ]
        }
      ]
    },
    {
      "cell_type": "code",
      "source": [
        "model.compile(optimizer=Adam(learning_rate=0.001), loss='binary_crossentropy', metrics=['accuracy'])"
      ],
      "metadata": {
        "id": "LVwsagfh9x6r"
      },
      "execution_count": null,
      "outputs": []
    },
    {
      "cell_type": "code",
      "source": [
        "history = model.fit(X_train, Y_train, epochs=10, batch_size=64, validation_split=0.2, verbose=2)"
      ],
      "metadata": {
        "colab": {
          "base_uri": "https://localhost:8080/"
        },
        "id": "_15kDEp69wbM",
        "outputId": "9146103b-babb-4979-f017-121ad19d4f0e"
      },
      "execution_count": null,
      "outputs": [
        {
          "output_type": "stream",
          "name": "stdout",
          "text": [
            "Epoch 1/10\n",
            "187/187 - 11s - 58ms/step - accuracy: 0.8210 - loss: 0.3563 - val_accuracy: 0.9480 - val_loss: 0.1279\n",
            "Epoch 2/10\n",
            "187/187 - 12s - 63ms/step - accuracy: 0.9654 - loss: 0.0915 - val_accuracy: 0.9567 - val_loss: 0.1054\n",
            "Epoch 3/10\n",
            "187/187 - 11s - 61ms/step - accuracy: 0.9816 - loss: 0.0473 - val_accuracy: 0.9591 - val_loss: 0.1140\n",
            "Epoch 4/10\n",
            "187/187 - 15s - 78ms/step - accuracy: 0.9876 - loss: 0.0291 - val_accuracy: 0.9581 - val_loss: 0.1235\n",
            "Epoch 5/10\n",
            "187/187 - 15s - 79ms/step - accuracy: 0.9888 - loss: 0.0227 - val_accuracy: 0.9624 - val_loss: 0.1295\n",
            "Epoch 6/10\n",
            "187/187 - 8s - 45ms/step - accuracy: 0.9893 - loss: 0.0212 - val_accuracy: 0.9581 - val_loss: 0.1458\n",
            "Epoch 7/10\n",
            "187/187 - 11s - 58ms/step - accuracy: 0.9892 - loss: 0.0203 - val_accuracy: 0.9564 - val_loss: 0.1525\n",
            "Epoch 8/10\n",
            "187/187 - 7s - 39ms/step - accuracy: 0.9894 - loss: 0.0197 - val_accuracy: 0.9594 - val_loss: 0.1562\n",
            "Epoch 9/10\n",
            "187/187 - 8s - 40ms/step - accuracy: 0.9894 - loss: 0.0202 - val_accuracy: 0.9577 - val_loss: 0.1616\n",
            "Epoch 10/10\n",
            "187/187 - 11s - 60ms/step - accuracy: 0.9894 - loss: 0.0195 - val_accuracy: 0.9584 - val_loss: 0.1688\n"
          ]
        }
      ]
    },
    {
      "cell_type": "code",
      "source": [
        "loss, accuracy = model.evaluate(X_test, Y_test)\n",
        "print(f\"Test Accuracy: {accuracy:.2f}\")"
      ],
      "metadata": {
        "colab": {
          "base_uri": "https://localhost:8080/"
        },
        "id": "m8RYESnt916M",
        "outputId": "1c85d11c-0d50-4e9f-fdbe-654eee7fdb08"
      },
      "execution_count": null,
      "outputs": [
        {
          "output_type": "stream",
          "name": "stdout",
          "text": [
            "\u001b[1m117/117\u001b[0m \u001b[32m━━━━━━━━━━━━━━━━━━━━\u001b[0m\u001b[37m\u001b[0m \u001b[1m1s\u001b[0m 6ms/step - accuracy: 0.9583 - loss: 0.1927\n",
            "Test Accuracy: 0.96\n"
          ]
        }
      ]
    },
    {
      "cell_type": "code",
      "source": [
        "Y_pred = (model.predict(X_test) > 0.5).astype(\"int32\")\n",
        "print(classification_report(Y_test, Y_pred, target_names=['Safe Email', 'Phishing Email']))"
      ],
      "metadata": {
        "colab": {
          "base_uri": "https://localhost:8080/"
        },
        "id": "RsBiVXae94uI",
        "outputId": "c5ec14ee-cdc4-47c7-a1dd-b3bd705aad47"
      },
      "execution_count": null,
      "outputs": [
        {
          "output_type": "stream",
          "name": "stdout",
          "text": [
            "\u001b[1m117/117\u001b[0m \u001b[32m━━━━━━━━━━━━━━━━━━━━\u001b[0m\u001b[37m\u001b[0m \u001b[1m1s\u001b[0m 7ms/step\n",
            "                precision    recall  f1-score   support\n",
            "\n",
            "    Safe Email       0.98      0.95      0.97      2209\n",
            "Phishing Email       0.94      0.97      0.95      1518\n",
            "\n",
            "      accuracy                           0.96      3727\n",
            "     macro avg       0.96      0.96      0.96      3727\n",
            "  weighted avg       0.96      0.96      0.96      3727\n",
            "\n"
          ]
        }
      ]
    },
    {
      "cell_type": "code",
      "source": [
        "cm = confusion_matrix(Y_test, Y_pred)\n",
        "sns.heatmap(cm, annot=True, fmt='d', cmap='Blues', xticklabels=['Safe Email', 'Phishing Email'], yticklabels=['Safe Email', 'Phishing Email'])\n",
        "plt.xlabel(\"Predicted\")\n",
        "plt.ylabel(\"True\")\n",
        "plt.title(\"Confusion Matrix\")\n",
        "plt.show()"
      ],
      "metadata": {
        "colab": {
          "base_uri": "https://localhost:8080/",
          "height": 472
        },
        "id": "3-6V5Ze597_Z",
        "outputId": "b66463b4-56c9-4b03-f162-e7f1ea4c0e7d"
      },
      "execution_count": null,
      "outputs": [
        {
          "output_type": "display_data",
          "data": {
            "text/plain": [
              "<Figure size 640x480 with 2 Axes>"
            ],
            "image/png": "[encoded data removed]"
          },
          "metadata": {}
        }
      ]
    }
  ]
}